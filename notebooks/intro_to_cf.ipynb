{
  "cells": [
    {
      "cell_type": "markdown",
      "metadata": {},
      "source": [
        "# Compressive Framework \u2014 Intro Notebook\n",
        "\n",
        "A lightweight demonstration of harmonic compression and coherent waveform simulation.\n",
        "This notebook visualizes how damping and resonance interact using simplified parameters.\n"
      ]
    },
    {
      "cell_type": "code",
      "execution_count": null,
      "metadata": {},
      "outputs": [],
      "source": [
        "import numpy as np\n",
        "import matplotlib.pyplot as plt\n",
        "\n",
        "try:\n",
        "    import plotly.graph_objects as go\n",
        "    plotly_available = True\n",
        "except Exception:\n",
        "    plotly_available = False\n",
        "\n",
        "plt.rcParams['figure.dpi'] = 100\n"
      ]
    },
    {
      "cell_type": "code",
      "execution_count": null,
      "metadata": {},
      "outputs": [],
      "source": [
        "def psi(x, t, A=1.0, k=2*np.pi/5, w=2*np.pi/3, a=0.1):\n",
        "    x = np.asarray(x)\n",
        "    t = np.asarray(t)\n",
        "    return A * np.sin(k * x - w * t) * np.exp(-a * x)\n"
      ]
    },
    {
      "cell_type": "code",
      "execution_count": null,
      "metadata": {},
      "outputs": [],
      "source": [
        "A, k, w, a = 1.0, 2*np.pi/5, 2*np.pi/3, 0.1\n",
        "x = np.linspace(0, 20, 500)\n",
        "t = np.linspace(0, 6, 200)\n",
        "t_idx = 50\n",
        "y = psi(x, t[t_idx], A=A, k=k, w=w, a=a)\n",
        "plt.figure(figsize=(8,4))\n",
        "plt.plot(x, y)\n",
        "plt.title(f\"CF Harmonic Compression \u2014 t = {t[t_idx]:.2f}\")\n",
        "plt.xlabel('x')\n",
        "plt.ylabel('\u03a8(x,t)')\n",
        "plt.grid(True)\n",
        "plt.show()\n"
      ]
    },
    {
      "cell_type": "code",
      "execution_count": null,
      "metadata": {},
      "outputs": [],
      "source": [
        "if plotly_available:\n",
        "    X, T = np.meshgrid(x, t)\n",
        "    Y = psi(X, T, A=A, k=k, w=w, a=a)\n",
        "    fig = go.Figure(data=[go.Surface(z=Y, x=X, y=T, colorscale='Viridis')])\n",
        "    fig.update_layout(title='CF Harmonic Field (\u03a8)', scene=dict(xaxis_title='x', yaxis_title='t', zaxis_title='\u03a8'))\n",
        "    fig.show()\n",
        "else:\n",
        "    print('Plotly not installed \u2014 skipping 3D visualization.')\n"
      ]
    },
    {
      "cell_type": "code",
      "execution_count": null,
      "metadata": {},
      "outputs": [],
      "source": [
        "def harmonic_sweep(x, t_snapshot, w_values, A=1.0, k=2*np.pi/5, a=0.1):\n",
        "    results = {}\n",
        "    for w_test in w_values:\n",
        "        y_test = psi(x, t_snapshot, A=A, k=k, w=w_test, a=a)\n",
        "        results[float(w_test)] = float(np.max(np.abs(y_test)))\n",
        "    return results\n",
        "\n",
        "w_values = np.linspace(1.0, 10.0, 9)\n",
        "sweep = harmonic_sweep(x, t[t_idx], w_values, A=A, k=k, a=a)\n",
        "print('Peak amplitude responses by angular frequency (w):')\n",
        "for wv, amp in sweep.items():\n",
        "    print(f'w={wv:.2f} -> peak={amp:.4f}')\n"
      ]
    },
    {
      "cell_type": "markdown",
      "metadata": {},
      "source": [
        "## Results Summary\n",
        "\n",
        "The harmonic sweep above shows how changing the driving angular frequency affects the peak amplitude\n",
        "of the compressive harmonic field at a fixed spatial snapshot. This simplified model serves as a\n",
        "reproducible baseline for more advanced CF simulations exploring multi-arm coherence, anchor clustering,\n",
        "and resonance locking.\n"
      ]
    }
  ],
  "metadata": {
    "kernelspec": {
      "display_name": "Python 3",
      "language": "python",
      "name": "python3"
    },
    "language_info": {
      "name": "python",
      "version": "3.11"
    }
  },
  "nbformat": 4,
  "nbformat_minor": 5
}