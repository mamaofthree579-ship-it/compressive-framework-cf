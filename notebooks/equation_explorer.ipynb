{
  "cells": [
    {
      "cell_type": "markdown",
      "metadata": {},
      "source": [
        "# Equation Explorer \u2014 Compressive Framework (CF)\n",
        "\n",
        "This notebook demonstrates how symbolic and numerical equations can be defined, listed,\n",
        "and explored within the CF ecosystem. It provides a conceptual example of what a\n",
        "computational equation registry might look like before integration with the core library."
      ]
    },
    {
      "cell_type": "code",
      "execution_count": null,
      "metadata": {},
      "outputs": [],
      "source": [
        "import numpy as np\n",
        "import matplotlib.pyplot as plt\n",
        "import sympy as sp\n",
        "\n",
        "plt.rcParams['figure.dpi'] = 100"
      ]
    },
    {
      "cell_type": "markdown",
      "metadata": {},
      "source": [
        "## 1. Equation Registry (Demonstration)\n",
        "\n",
        "Below we define a simple dictionary-based registry to simulate how symbolic equations\n",
        "might be organized within the CF framework."
      ]
    },
    {
      "cell_type": "code",
      "execution_count": null,
      "metadata": {},
      "outputs": [],
      "source": [
        "registry = {}\n",
        "\n",
        "def register_equation(name, expr, variables):\n",
        "    registry[name] = {'expr': expr, 'variables': variables}\n",
        "\n",
        "def list_equations():\n",
        "    for key in registry:\n",
        "        print(f\"{key}: {registry[key]['expr']}\")\n",
        "\n",
        "# Define variables\n",
        "x, t, k, w, a, A = sp.symbols('x t k w a A', real=True, positive=True)\n",
        "\n",
        "# Register symbolic equations\n",
        "eq_wave = A * sp.sin(k*x - w*t) * sp.exp(-a*x)\n",
        "eq_energy = 0.5 * A**2 * (k**2 + w**2) * sp.exp(-2*a*x)\n",
        "\n",
        "register_equation('Harmonic Wave', eq_wave, (x, t, k, w, a, A))\n",
        "register_equation('Energy Density', eq_energy, (x, t, k, w, a, A))\n",
        "\n",
        "list_equations()"
      ]
    },
    {
      "cell_type": "markdown",
      "metadata": {},
      "source": [
        "## 2. Numerical Evaluation\n",
        "\n",
        "We can convert symbolic forms to numerical functions for plotting and analysis."
      ]
    },
    {
      "cell_type": "code",
      "execution_count": null,
      "metadata": {},
      "outputs": [],
      "source": [
        "psi_func = sp.lambdify((x, t, k, w, a, A), eq_wave, 'numpy')\n",
        "energy_func = sp.lambdify((x, t, k, w, a, A), eq_energy, 'numpy')\n",
        "\n",
        "x_vals = np.linspace(0, 20, 500)\n",
        "t_val = 2.0\n",
        "params = dict(k=2*np.pi/5, w=2*np.pi/3, a=0.1, A=1.0)\n",
        "\n",
        "psi_vals = psi_func(x_vals, t_val, **params)\n",
        "energy_vals = energy_func(x_vals, t_val, **params)\n",
        "\n",
        "plt.figure(figsize=(8,4))\n",
        "plt.plot(x_vals, psi_vals, label='\u03a8(x,t)')\n",
        "plt.plot(x_vals, energy_vals, label='Energy Density', linestyle='--')\n",
        "plt.title('Harmonic Compression and Energy Profile')\n",
        "plt.xlabel('x')\n",
        "plt.ylabel('Amplitude / Energy')\n",
        "plt.legend()\n",
        "plt.grid(True)\n",
        "plt.show()"
      ]
    },
    {
      "cell_type": "markdown",
      "metadata": {},
      "source": [
        "## 3. Dynamic Exploration\n",
        "\n",
        "This section performs a harmonic frequency sweep to visualize how the energy distribution\n",
        "changes as the angular frequency (\u03c9) increases."
      ]
    },
    {
      "cell_type": "code",
      "execution_count": null,
      "metadata": {},
      "outputs": [],
      "source": [
        "w_values = np.linspace(1.0, 10.0, 9)\n",
        "peaks = []\n",
        "\n",
        "for wv in w_values:\n",
        "    psi_vals = psi_func(x_vals, t_val, k=params['k'], w=wv, a=params['a'], A=params['A'])\n",
        "    peaks.append(np.max(np.abs(psi_vals)))\n",
        "\n",
        "plt.figure(figsize=(6,4))\n",
        "plt.plot(w_values, peaks, marker='o')\n",
        "plt.title('Peak Amplitude vs Angular Frequency')\n",
        "plt.xlabel('\u03c9')\n",
        "plt.ylabel('Peak |\u03a8|')\n",
        "plt.grid(True)\n",
        "plt.show()"
      ]
    },
    {
      "cell_type": "markdown",
      "metadata": {},
      "source": [
        "## 4. Summary\n",
        "\n",
        "This notebook demonstrates a foundational layer for the **Compressive Framework (CF)** equation system:\n",
        "- A registry of symbolic expressions\n",
        "- Conversion to numerical functions\n",
        "- Basic visualization and sweep analysis\n",
        "\n",
        "It can be extended in future updates to include auto-documentation, differential solvers,\n",
        "and deeper resonance studies within the CF model.\n"
      ]
    }
  ],
  "metadata": {
    "kernelspec": {
      "display_name": "Python 3",
      "language": "python",
      "name": "python3"
    },
    "language_info": {
      "name": "python",
      "version": "3.11"
    }
  },
  "nbformat": 4,
  "nbformat_minor": 5
}