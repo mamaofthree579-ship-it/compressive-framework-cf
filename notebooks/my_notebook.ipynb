$ jupyter nbconvert --to FORMAT notebook
